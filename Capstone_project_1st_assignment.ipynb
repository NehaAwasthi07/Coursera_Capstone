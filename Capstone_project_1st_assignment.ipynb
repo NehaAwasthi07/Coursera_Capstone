{
  "nbformat": 4,
  "nbformat_minor": 0,
  "metadata": {
    "colab": {
      "name": "Capstone project 1st assignment.ipynb",
      "provenance": [],
      "authorship_tag": "ABX9TyNg6SuXL/loFdmhXvrIUKNx",
      "include_colab_link": true
    },
    "kernelspec": {
      "name": "python3",
      "display_name": "Python 3"
    },
    "language_info": {
      "name": "python"
    }
  },
  "cells": [
    {
      "cell_type": "markdown",
      "metadata": {
        "id": "view-in-github",
        "colab_type": "text"
      },
      "source": [
        "<a href=\"https://colab.research.google.com/github/NehaAwasthi07/Coursera_Capstone/blob/main/Capstone_project_1st_assignment.ipynb\" target=\"_parent\"><img src=\"https://colab.research.google.com/assets/colab-badge.svg\" alt=\"Open In Colab\"/></a>"
      ]
    },
    {
      "cell_type": "markdown",
      "metadata": {
        "id": "j421kaaCEDNI"
      },
      "source": [
        "This notebook is part of Capstone project for IBM's applied data science course with coursera"
      ]
    },
    {
      "cell_type": "code",
      "metadata": {
        "id": "6Y9pBPoDEL9V"
      },
      "source": [
        "import pandas as pd"
      ],
      "execution_count": 4,
      "outputs": []
    },
    {
      "cell_type": "code",
      "metadata": {
        "id": "bCkPu73pEQMf"
      },
      "source": [
        "import numpy as  np"
      ],
      "execution_count": 5,
      "outputs": []
    },
    {
      "cell_type": "code",
      "metadata": {
        "colab": {
          "base_uri": "https://localhost:8080/"
        },
        "id": "f_G6mWucESKP",
        "outputId": "d2d1d900-82d9-4f28-ce52-d0feccf53512"
      },
      "source": [
        "\n",
        "print(\" Hello Capstone Project Course\")"
      ],
      "execution_count": 6,
      "outputs": [
        {
          "output_type": "stream",
          "text": [
            " Hello Capstone Project Course\n"
          ],
          "name": "stdout"
        }
      ]
    },
    {
      "cell_type": "code",
      "metadata": {
        "id": "FAo5MbPtEXWM"
      },
      "source": [
        ""
      ],
      "execution_count": null,
      "outputs": []
    }
  ]
}